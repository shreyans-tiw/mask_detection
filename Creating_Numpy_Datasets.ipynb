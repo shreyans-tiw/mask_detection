{
  "nbformat": 4,
  "nbformat_minor": 0,
  "metadata": {
    "colab": {
      "name": "Creating_Numpy_Datasets.ipynb",
      "provenance": [],
      "mount_file_id": "16IAMdgIXqHOmZQVv4qAfsnGW7Z_3HPLq",
      "authorship_tag": "ABX9TyN9z2jLQaBv4Ntm2TimSw+I",
      "include_colab_link": true
    },
    "kernelspec": {
      "name": "python3",
      "display_name": "Python 3"
    },
    "language_info": {
      "name": "python"
    }
  },
  "cells": [
    {
      "cell_type": "markdown",
      "metadata": {
        "id": "view-in-github",
        "colab_type": "text"
      },
      "source": [
        "<a href=\"https://colab.research.google.com/github/yashveersinghsohi/face_mask_detection/blob/main/Creating_Numpy_Datasets.ipynb\" target=\"_parent\"><img src=\"https://colab.research.google.com/assets/colab-badge.svg\" alt=\"Open In Colab\"/></a>"
      ]
    },
    {
      "cell_type": "markdown",
      "source": [
        "# Importing Packages"
      ],
      "metadata": {
        "id": "eInhc00Kk3hb"
      }
    },
    {
      "cell_type": "code",
      "execution_count": 1,
      "metadata": {
        "id": "qMvbqY9LiVXL"
      },
      "outputs": [],
      "source": [
        "import pandas as pd\n",
        "import numpy as np\n",
        "import matplotlib.pyplot as plt\n",
        "import cv2\n",
        "import os\n",
        "from tqdm import tqdm"
      ]
    },
    {
      "cell_type": "markdown",
      "source": [
        "# Data Paths"
      ],
      "metadata": {
        "id": "ZrraOHkGlR1T"
      }
    },
    {
      "cell_type": "code",
      "source": [
        "ROOT_DIR = \"/content/drive/Shareddrives/CIS522/dataset/\"\n",
        "WITH_MASK_PATH = ROOT_DIR + \"with_mask/\"\n",
        "WITHOUT_MASK_PATH = ROOT_DIR + \"without_mask/\"\n",
        "WRONG_MASK_PATH = ROOT_DIR + \"wrong_mask/\""
      ],
      "metadata": {
        "id": "Cr5epvknk_CH"
      },
      "execution_count": 2,
      "outputs": []
    },
    {
      "cell_type": "markdown",
      "source": [
        "# Helper Function"
      ],
      "metadata": {
        "id": "wzCW98fAmp-C"
      }
    },
    {
      "cell_type": "code",
      "source": [
        "def createDataset(PATH, label):\n",
        "  imgs, labels = [], []\n",
        "  for path in tqdm(\n",
        "      os.listdir(PATH), \n",
        "      total=len(os.listdir(PATH))\n",
        "    ):\n",
        "    img = cv2.imread(PATH+path, cv2.IMREAD_GRAYSCALE)\n",
        "    imgs.append(img)\n",
        "    labels.append(label)\n",
        "  return imgs, labels"
      ],
      "metadata": {
        "id": "s2qkdzdzmrJg"
      },
      "execution_count": 3,
      "outputs": []
    },
    {
      "cell_type": "markdown",
      "source": [
        "# Creating Datasets"
      ],
      "metadata": {
        "id": "f9mm9N2XnC6z"
      }
    },
    {
      "cell_type": "markdown",
      "source": [
        "Creating **With-Mask** Numpy array"
      ],
      "metadata": {
        "id": "-5Tr2nVwlTae"
      }
    },
    {
      "cell_type": "code",
      "source": [
        "with_mask_imgs, with_mask_labels = createDataset(\n",
        "    PATH=WITH_MASK_PATH, \n",
        "    label=0\n",
        "  )"
      ],
      "metadata": {
        "colab": {
          "base_uri": "https://localhost:8080/"
        },
        "id": "_-_v4cP2lTA5",
        "outputId": "de2c717a-86c3-4f06-bc90-c2dd7da95355"
      },
      "execution_count": 4,
      "outputs": [
        {
          "output_type": "stream",
          "name": "stderr",
          "text": [
            "100%|██████████| 3725/3725 [00:23<00:00, 161.35it/s]\n"
          ]
        }
      ]
    },
    {
      "cell_type": "markdown",
      "source": [
        "Creating **Without-Mask** Numpy array"
      ],
      "metadata": {
        "id": "7ByJay6JqG05"
      }
    },
    {
      "cell_type": "code",
      "source": [
        "without_mask_imgs, without_mask_labels = createDataset(\n",
        "    PATH=WITHOUT_MASK_PATH, \n",
        "    label=1\n",
        "  )"
      ],
      "metadata": {
        "colab": {
          "base_uri": "https://localhost:8080/"
        },
        "id": "vfc-U1i4p0rt",
        "outputId": "f0e16aca-ae96-48e4-b3b7-4afa11d989c5"
      },
      "execution_count": 5,
      "outputs": [
        {
          "output_type": "stream",
          "name": "stderr",
          "text": [
            "100%|██████████| 3978/3978 [01:11<00:00, 55.29it/s] \n"
          ]
        }
      ]
    },
    {
      "cell_type": "markdown",
      "source": [
        "Creating **Wrong-Mask** Numpy array"
      ],
      "metadata": {
        "id": "GFPtsZQ-qIOo"
      }
    },
    {
      "cell_type": "code",
      "source": [
        "wrong_mask_imgs, wrong_mask_labels = createDataset(\n",
        "    PATH=WRONG_MASK_PATH, \n",
        "    label=2\n",
        "  )"
      ],
      "metadata": {
        "colab": {
          "base_uri": "https://localhost:8080/"
        },
        "id": "kTntshzkp0o9",
        "outputId": "142612ed-26ff-40d7-c7bf-1e15058791f4"
      },
      "execution_count": 6,
      "outputs": [
        {
          "output_type": "stream",
          "name": "stderr",
          "text": [
            "100%|██████████| 4000/4000 [01:26<00:00, 45.99it/s] \n"
          ]
        }
      ]
    },
    {
      "cell_type": "markdown",
      "source": [
        "# Combining all Images and Labels in one array"
      ],
      "metadata": {
        "id": "4guNTm3pqQbu"
      }
    },
    {
      "cell_type": "code",
      "source": [
        "imgs = with_mask_imgs + without_mask_imgs + wrong_mask_imgs\n",
        "labels = with_mask_labels + without_mask_labels + wrong_mask_labels\n",
        "\n",
        "imgs = np.array(imgs)\n",
        "labels = np.array(labels)\n",
        "\n",
        "imgs.shape, labels.shape"
      ],
      "metadata": {
        "colab": {
          "base_uri": "https://localhost:8080/"
        },
        "id": "S2Garxhlpvw9",
        "outputId": "ca8226ef-fb8d-4861-8288-0da83f64142a"
      },
      "execution_count": 7,
      "outputs": [
        {
          "output_type": "execute_result",
          "data": {
            "text/plain": [
              "((11703, 224, 224), (11703,))"
            ]
          },
          "metadata": {},
          "execution_count": 7
        }
      ]
    },
    {
      "cell_type": "markdown",
      "source": [
        "# Saving Numpy files"
      ],
      "metadata": {
        "id": "sPW1R-l5rV55"
      }
    },
    {
      "cell_type": "code",
      "source": [
        "with open(\"imgs.npy\", \"wb\") as f:\n",
        "  np.save(f, imgs)\n",
        "\n",
        "with open(\"labels.npy\", \"wb\") as f:\n",
        "  np.save(f, labels)"
      ],
      "metadata": {
        "id": "h0AMA_rfrVuU"
      },
      "execution_count": 8,
      "outputs": []
    }
  ]
}